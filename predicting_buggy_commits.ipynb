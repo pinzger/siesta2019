{
 "cells": [
  {
   "cell_type": "markdown",
   "metadata": {},
   "source": [
    "# SIESTA 2019, IJM, Predicting Bug Fixing Commits"
   ]
  },
  {
   "cell_type": "code",
   "execution_count": 1,
   "metadata": {},
   "outputs": [],
   "source": [
    "from sqlalchemy import create_engine\n",
    "import pandas as pd"
   ]
  },
  {
   "cell_type": "code",
   "execution_count": 2,
   "metadata": {},
   "outputs": [],
   "source": [
    "%load_ext sql\n",
    "%config SqlMagic.autocommit=False\n",
    "%config SqlMagic.autopandas=True"
   ]
  },
  {
   "cell_type": "code",
   "execution_count": 3,
   "metadata": {},
   "outputs": [],
   "source": [
    "pd.set_option('display.max_colwidth', 100)"
   ]
  },
  {
   "cell_type": "code",
   "execution_count": 4,
   "metadata": {},
   "outputs": [
    {
     "data": {
      "text/plain": [
       "'Connected: mpinzger@retrofit'"
      ]
     },
     "execution_count": 4,
     "metadata": {},
     "output_type": "execute_result"
    }
   ],
   "source": [
    "%sql postgresql://mpinzger@localhost:5432/retrofit"
   ]
  },
  {
   "cell_type": "markdown",
   "metadata": {},
   "source": [
    "## Get bug-fixing commits"
   ]
  },
  {
   "cell_type": "code",
   "execution_count": 59,
   "metadata": {},
   "outputs": [
    {
     "name": "stdout",
     "output_type": "stream",
     "text": [
      " * postgresql://mpinzger@localhost:5432/retrofit\n",
      "134 rows affected.\n",
      "Returning data to local variable bug_fixing_revisions\n"
     ]
    }
   ],
   "source": [
    "%%sql bug_fixing_revisions << SELECT f.*, co.commit_dst, co.commit_msg, co.timestamp \n",
    "FROM change_schema.filerevision f JOIN change_schema.commit co ON f.revision_id = co.id \n",
    "WHERE co.commit_msg ~* '[[:<:]]bugs?[[:>:]]' \n",
    "OR co.commit_msg ~* '[[:<:]]issues?[[:>:]]'\n",
    "OR co.commit_msg ~* '[[:<:]]fix(ed)?[[:>:]]'\n",
    "OR co.commit_msg ~* '#\\d+'\n",
    "ORDER by co.timestamp;"
   ]
  },
  {
   "cell_type": "code",
   "execution_count": 241,
   "metadata": {},
   "outputs": [],
   "source": [
    "#bug_fixing_revisions.head(3)"
   ]
  },
  {
   "cell_type": "markdown",
   "metadata": {},
   "source": [
    "## Get counts per filerevision and action type"
   ]
  },
  {
   "cell_type": "code",
   "execution_count": 87,
   "metadata": {},
   "outputs": [
    {
     "name": "stdout",
     "output_type": "stream",
     "text": [
      " * postgresql://mpinzger@localhost:5432/retrofit\n",
      "3583 rows affected.\n",
      "Returning data to local variable changes_per_action\n"
     ]
    }
   ],
   "source": [
    "%%sql changes_per_action << SELECT co.timestamp, f.id, f.filename, c.action, count(c.id) count_changes\n",
    "FROM change_schema.changes c JOIN change_schema.filerevision f ON c.filerevision_id = f.id \n",
    "JOIN change_schema.commit co ON f.revision_id = co.id \n",
    "GROUP BY co.timestamp, f.id, f.filename, c.action\n",
    "ORDER by co.timestamp, f.id, c.action;"
   ]
  },
  {
   "cell_type": "code",
   "execution_count": 243,
   "metadata": {},
   "outputs": [],
   "source": [
    "#changes_per_action.tail(3)"
   ]
  },
  {
   "cell_type": "markdown",
   "metadata": {},
   "source": [
    "### Add buggy flag"
   ]
  },
  {
   "cell_type": "code",
   "execution_count": 92,
   "metadata": {},
   "outputs": [],
   "source": [
    "changes_per_action['buggy'] = changes_per_action.id.isin(bug_fixing_revisions.id)"
   ]
  },
  {
   "cell_type": "code",
   "execution_count": 103,
   "metadata": {},
   "outputs": [
    {
     "data": {
      "text/plain": [
       "False"
      ]
     },
     "execution_count": 103,
     "metadata": {},
     "output_type": "execute_result"
    }
   ],
   "source": [
    "1009 in bug_fixing_revisions.id.unique()"
   ]
  },
  {
   "cell_type": "code",
   "execution_count": 242,
   "metadata": {},
   "outputs": [
    {
     "data": {
      "text/html": [
       "<div>\n",
       "<style scoped>\n",
       "    .dataframe tbody tr th:only-of-type {\n",
       "        vertical-align: middle;\n",
       "    }\n",
       "\n",
       "    .dataframe tbody tr th {\n",
       "        vertical-align: top;\n",
       "    }\n",
       "\n",
       "    .dataframe thead th {\n",
       "        text-align: right;\n",
       "    }\n",
       "</style>\n",
       "<table border=\"1\" class=\"dataframe\">\n",
       "  <thead>\n",
       "    <tr style=\"text-align: right;\">\n",
       "      <th></th>\n",
       "      <th>timestamp</th>\n",
       "      <th>id</th>\n",
       "      <th>filename</th>\n",
       "      <th>action</th>\n",
       "      <th>count_changes</th>\n",
       "      <th>buggy</th>\n",
       "    </tr>\n",
       "  </thead>\n",
       "  <tbody>\n",
       "    <tr>\n",
       "      <td>0</td>\n",
       "      <td>2012-03-26 15:38:09</td>\n",
       "      <td>95</td>\n",
       "      <td>android/src/main/java/retrofit/android/ShakeDetector.java</td>\n",
       "      <td>INS</td>\n",
       "      <td>472</td>\n",
       "      <td>False</td>\n",
       "    </tr>\n",
       "    <tr>\n",
       "      <td>1</td>\n",
       "      <td>2012-03-26 15:38:09</td>\n",
       "      <td>96</td>\n",
       "      <td>android/src/main/java/retrofit/io/QueueFile.java</td>\n",
       "      <td>INS</td>\n",
       "      <td>1487</td>\n",
       "      <td>False</td>\n",
       "    </tr>\n",
       "    <tr>\n",
       "      <td>2</td>\n",
       "      <td>2012-03-26 15:38:09</td>\n",
       "      <td>440</td>\n",
       "      <td>io/src/main/java/retrofit/io/Files.java</td>\n",
       "      <td>INS</td>\n",
       "      <td>195</td>\n",
       "      <td>False</td>\n",
       "    </tr>\n",
       "  </tbody>\n",
       "</table>\n",
       "</div>"
      ],
      "text/plain": [
       "            timestamp   id  \\\n",
       "0 2012-03-26 15:38:09   95   \n",
       "1 2012-03-26 15:38:09   96   \n",
       "2 2012-03-26 15:38:09  440   \n",
       "\n",
       "                                                    filename action  \\\n",
       "0  android/src/main/java/retrofit/android/ShakeDetector.java    INS   \n",
       "1           android/src/main/java/retrofit/io/QueueFile.java    INS   \n",
       "2                    io/src/main/java/retrofit/io/Files.java    INS   \n",
       "\n",
       "   count_changes  buggy  \n",
       "0            472  False  \n",
       "1           1487  False  \n",
       "2            195  False  "
      ]
     },
     "execution_count": 242,
     "metadata": {},
     "output_type": "execute_result"
    }
   ],
   "source": [
    "changes_per_action.head(3)"
   ]
  },
  {
   "cell_type": "markdown",
   "metadata": {},
   "source": [
    "## Create dataset with counts per action type as separata columns"
   ]
  },
  {
   "cell_type": "code",
   "execution_count": 229,
   "metadata": {},
   "outputs": [],
   "source": [
    "changes_per_action_idx = changes_per_action.set_index('id')"
   ]
  },
  {
   "cell_type": "code",
   "execution_count": 230,
   "metadata": {},
   "outputs": [],
   "source": [
    "counts = pd.DataFrame({'id': changes_per_action_idx.index.unique()})\n",
    "counts.set_index('id', inplace=True)\n",
    "\n",
    "for action_type in ['INS', 'DEL', 'MOV', 'UPD']:\n",
    "    c = changes_per_action_idx[changes_per_action_idx.action == action_type]\n",
    "    c = c.count_changes\n",
    "    c.rename(action_type, inplace=True)\n",
    "    counts = counts.merge(c, left_index=True, right_index=True, how='left')\n",
    "    counts.fillna(0.0, inplace=True)\n",
    "#    print(list(counts.columns.values))"
   ]
  },
  {
   "cell_type": "markdown",
   "metadata": {},
   "source": [
    "### Add revision information "
   ]
  },
  {
   "cell_type": "code",
   "execution_count": 231,
   "metadata": {},
   "outputs": [],
   "source": [
    "unique_revisions = changes_per_action.groupby(['id','filename','timestamp', 'buggy'], as_index=False).agg({'action' : 'count', 'count_changes' : 'sum'})\n",
    "#unique_revisions = changes_per_action.groupby(['id']).agg({'action' : 'count'})"
   ]
  },
  {
   "cell_type": "code",
   "execution_count": 232,
   "metadata": {},
   "outputs": [
    {
     "data": {
      "text/html": [
       "<div>\n",
       "<style scoped>\n",
       "    .dataframe tbody tr th:only-of-type {\n",
       "        vertical-align: middle;\n",
       "    }\n",
       "\n",
       "    .dataframe tbody tr th {\n",
       "        vertical-align: top;\n",
       "    }\n",
       "\n",
       "    .dataframe thead th {\n",
       "        text-align: right;\n",
       "    }\n",
       "</style>\n",
       "<table border=\"1\" class=\"dataframe\">\n",
       "  <thead>\n",
       "    <tr style=\"text-align: right;\">\n",
       "      <th></th>\n",
       "      <th>id</th>\n",
       "      <th>filename</th>\n",
       "      <th>timestamp</th>\n",
       "      <th>buggy</th>\n",
       "      <th>action</th>\n",
       "      <th>count_changes</th>\n",
       "    </tr>\n",
       "  </thead>\n",
       "  <tbody>\n",
       "    <tr>\n",
       "      <td>0</td>\n",
       "      <td>1</td>\n",
       "      <td>retrofit-converters/moshi/src/main/java/retrofit/MoshiConverterFactory.java</td>\n",
       "      <td>2015-11-24 12:54:38</td>\n",
       "      <td>False</td>\n",
       "      <td>1</td>\n",
       "      <td>4</td>\n",
       "    </tr>\n",
       "    <tr>\n",
       "      <td>1</td>\n",
       "      <td>2</td>\n",
       "      <td>retrofit-converters/moshi/src/main/java/retrofit2/converter/moshi/MoshiConverterFactory.java</td>\n",
       "      <td>2016-09-01 19:52:20</td>\n",
       "      <td>False</td>\n",
       "      <td>3</td>\n",
       "      <td>32</td>\n",
       "    </tr>\n",
       "    <tr>\n",
       "      <td>2</td>\n",
       "      <td>3</td>\n",
       "      <td>retrofit-converters/moshi/src/main/java/retrofit2/converter/moshi/MoshiRequestBodyConverter.java</td>\n",
       "      <td>2016-09-01 19:52:20</td>\n",
       "      <td>False</td>\n",
       "      <td>4</td>\n",
       "      <td>25</td>\n",
       "    </tr>\n",
       "  </tbody>\n",
       "</table>\n",
       "</div>"
      ],
      "text/plain": [
       "   id  \\\n",
       "0   1   \n",
       "1   2   \n",
       "2   3   \n",
       "\n",
       "                                                                                           filename  \\\n",
       "0                       retrofit-converters/moshi/src/main/java/retrofit/MoshiConverterFactory.java   \n",
       "1      retrofit-converters/moshi/src/main/java/retrofit2/converter/moshi/MoshiConverterFactory.java   \n",
       "2  retrofit-converters/moshi/src/main/java/retrofit2/converter/moshi/MoshiRequestBodyConverter.java   \n",
       "\n",
       "            timestamp  buggy  action  count_changes  \n",
       "0 2015-11-24 12:54:38  False       1              4  \n",
       "1 2016-09-01 19:52:20  False       3             32  \n",
       "2 2016-09-01 19:52:20  False       4             25  "
      ]
     },
     "execution_count": 232,
     "metadata": {},
     "output_type": "execute_result"
    }
   ],
   "source": [
    "unique_revisions.head(3)"
   ]
  },
  {
   "cell_type": "code",
   "execution_count": 233,
   "metadata": {},
   "outputs": [],
   "source": [
    "unique_revisions.set_index('id', inplace=True)"
   ]
  },
  {
   "cell_type": "code",
   "execution_count": 235,
   "metadata": {},
   "outputs": [],
   "source": [
    "counts = counts.merge(unique_revisions, left_index=True, right_index=True, how='left')"
   ]
  },
  {
   "cell_type": "code",
   "execution_count": 244,
   "metadata": {},
   "outputs": [],
   "source": [
    "counts.sort_values('timestamp', inplace=True)"
   ]
  },
  {
   "cell_type": "code",
   "execution_count": 245,
   "metadata": {},
   "outputs": [
    {
     "data": {
      "text/html": [
       "<div>\n",
       "<style scoped>\n",
       "    .dataframe tbody tr th:only-of-type {\n",
       "        vertical-align: middle;\n",
       "    }\n",
       "\n",
       "    .dataframe tbody tr th {\n",
       "        vertical-align: top;\n",
       "    }\n",
       "\n",
       "    .dataframe thead th {\n",
       "        text-align: right;\n",
       "    }\n",
       "</style>\n",
       "<table border=\"1\" class=\"dataframe\">\n",
       "  <thead>\n",
       "    <tr style=\"text-align: right;\">\n",
       "      <th></th>\n",
       "      <th>INS</th>\n",
       "      <th>DEL</th>\n",
       "      <th>MOV</th>\n",
       "      <th>UPD</th>\n",
       "      <th>filename</th>\n",
       "      <th>timestamp</th>\n",
       "      <th>buggy</th>\n",
       "      <th>action</th>\n",
       "      <th>count_changes</th>\n",
       "    </tr>\n",
       "    <tr>\n",
       "      <th>id</th>\n",
       "      <th></th>\n",
       "      <th></th>\n",
       "      <th></th>\n",
       "      <th></th>\n",
       "      <th></th>\n",
       "      <th></th>\n",
       "      <th></th>\n",
       "      <th></th>\n",
       "      <th></th>\n",
       "    </tr>\n",
       "  </thead>\n",
       "  <tbody>\n",
       "    <tr>\n",
       "      <td>95</td>\n",
       "      <td>472.0</td>\n",
       "      <td>0.0</td>\n",
       "      <td>0.0</td>\n",
       "      <td>0.0</td>\n",
       "      <td>android/src/main/java/retrofit/android/ShakeDetector.java</td>\n",
       "      <td>2012-03-26 15:38:09</td>\n",
       "      <td>False</td>\n",
       "      <td>1</td>\n",
       "      <td>472</td>\n",
       "    </tr>\n",
       "    <tr>\n",
       "      <td>1827</td>\n",
       "      <td>110.0</td>\n",
       "      <td>0.0</td>\n",
       "      <td>0.0</td>\n",
       "      <td>0.0</td>\n",
       "      <td>http/src/main/java/retrofit/http/Server.java</td>\n",
       "      <td>2012-03-26 15:38:09</td>\n",
       "      <td>False</td>\n",
       "      <td>1</td>\n",
       "      <td>110</td>\n",
       "    </tr>\n",
       "    <tr>\n",
       "      <td>1828</td>\n",
       "      <td>74.0</td>\n",
       "      <td>0.0</td>\n",
       "      <td>0.0</td>\n",
       "      <td>0.0</td>\n",
       "      <td>http/src/main/java/retrofit/http/TypedBytesBody.java</td>\n",
       "      <td>2012-03-26 15:38:09</td>\n",
       "      <td>False</td>\n",
       "      <td>1</td>\n",
       "      <td>74</td>\n",
       "    </tr>\n",
       "    <tr>\n",
       "      <td>1829</td>\n",
       "      <td>9.0</td>\n",
       "      <td>0.0</td>\n",
       "      <td>0.0</td>\n",
       "      <td>0.0</td>\n",
       "      <td>http/src/main/java/retrofit/http/SingleEntity.java</td>\n",
       "      <td>2012-03-26 15:38:09</td>\n",
       "      <td>False</td>\n",
       "      <td>1</td>\n",
       "      <td>9</td>\n",
       "    </tr>\n",
       "    <tr>\n",
       "      <td>1830</td>\n",
       "      <td>158.0</td>\n",
       "      <td>0.0</td>\n",
       "      <td>0.0</td>\n",
       "      <td>0.0</td>\n",
       "      <td>http/src/main/java/retrofit/http/UiCallback.java</td>\n",
       "      <td>2012-03-26 15:38:09</td>\n",
       "      <td>False</td>\n",
       "      <td>1</td>\n",
       "      <td>158</td>\n",
       "    </tr>\n",
       "  </tbody>\n",
       "</table>\n",
       "</div>"
      ],
      "text/plain": [
       "        INS  DEL  MOV  UPD  \\\n",
       "id                           \n",
       "95    472.0  0.0  0.0  0.0   \n",
       "1827  110.0  0.0  0.0  0.0   \n",
       "1828   74.0  0.0  0.0  0.0   \n",
       "1829    9.0  0.0  0.0  0.0   \n",
       "1830  158.0  0.0  0.0  0.0   \n",
       "\n",
       "                                                       filename  \\\n",
       "id                                                                \n",
       "95    android/src/main/java/retrofit/android/ShakeDetector.java   \n",
       "1827               http/src/main/java/retrofit/http/Server.java   \n",
       "1828       http/src/main/java/retrofit/http/TypedBytesBody.java   \n",
       "1829         http/src/main/java/retrofit/http/SingleEntity.java   \n",
       "1830           http/src/main/java/retrofit/http/UiCallback.java   \n",
       "\n",
       "               timestamp  buggy  action  count_changes  \n",
       "id                                                      \n",
       "95   2012-03-26 15:38:09  False       1            472  \n",
       "1827 2012-03-26 15:38:09  False       1            110  \n",
       "1828 2012-03-26 15:38:09  False       1             74  \n",
       "1829 2012-03-26 15:38:09  False       1              9  \n",
       "1830 2012-03-26 15:38:09  False       1            158  "
      ]
     },
     "execution_count": 245,
     "metadata": {},
     "output_type": "execute_result"
    }
   ],
   "source": [
    "counts.head(5)"
   ]
  },
  {
   "cell_type": "markdown",
   "metadata": {},
   "source": [
    "## Do a random forest classification"
   ]
  },
  {
   "cell_type": "code",
   "execution_count": 238,
   "metadata": {},
   "outputs": [],
   "source": [
    "from sklearn.ensemble import RandomForestClassifier"
   ]
  },
  {
   "cell_type": "code",
   "execution_count": 239,
   "metadata": {},
   "outputs": [],
   "source": [
    "clf = RandomForestClassifier(n_estimators=100, max_depth=2, random_state=0)"
   ]
  },
  {
   "cell_type": "code",
   "execution_count": 250,
   "metadata": {},
   "outputs": [],
   "source": [
    "#clf.fit(counts.INS, counts.buggy)"
   ]
  },
  {
   "cell_type": "code",
   "execution_count": null,
   "metadata": {},
   "outputs": [],
   "source": []
  }
 ],
 "metadata": {
  "kernelspec": {
   "display_name": "jupyter",
   "language": "python",
   "name": "jupyter"
  },
  "language_info": {
   "codemirror_mode": {
    "name": "ipython",
    "version": 3
   },
   "file_extension": ".py",
   "mimetype": "text/x-python",
   "name": "python",
   "nbconvert_exporter": "python",
   "pygments_lexer": "ipython3",
   "version": "3.7.4"
  }
 },
 "nbformat": 4,
 "nbformat_minor": 4
}
